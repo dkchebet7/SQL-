{
  "nbformat": 4,
  "nbformat_minor": 0,
  "metadata": {
    "colab": {
      "name": "Untitled0.ipynb",
      "version": "0.3.2",
      "provenance": [],
      "collapsed_sections": [],
      "include_colab_link": true
    },
    "kernelspec": {
      "name": "python3",
      "display_name": "Python 3"
    },
    "accelerator": "GPU"
  },
  "cells": [
    {
      "cell_type": "markdown",
      "metadata": {
        "id": "view-in-github",
        "colab_type": "text"
      },
      "source": [
        "<a href=\"https://colab.research.google.com/github/dkchebet7/SQL-/blob/master/Untitled0.ipynb\" target=\"_parent\"><img src=\"https://colab.research.google.com/assets/colab-badge.svg\" alt=\"Open In Colab\"/></a>"
      ]
    },
    {
      "cell_type": "code",
      "metadata": {
        "id": "z-D_pBoxJOnB",
        "colab_type": "code",
        "outputId": "72cfb64d-44b0-49dc-9862-24a773515d5f",
        "colab": {
          "base_uri": "https://localhost:8080/",
          "height": 34
        }
      },
      "source": [
        "%load_ext sql\n",
        "%sql sqlite://"
      ],
      "execution_count": 0,
      "outputs": [
        {
          "output_type": "execute_result",
          "data": {
            "text/plain": [
              "'Connected: @None'"
            ]
          },
          "metadata": {
            "tags": []
          },
          "execution_count": 9
        }
      ]
    },
    {
      "cell_type": "markdown",
      "metadata": {
        "id": "WKG1HSzAKBSm",
        "colab_type": "text"
      },
      "source": [
        "# **creating tables**"
      ]
    },
    {
      "cell_type": "code",
      "metadata": {
        "id": "uCtUN5hvKLsr",
        "colab_type": "code",
        "outputId": "101bc5ad-96e0-4fe9-913a-61d64d83a37d",
        "colab": {
          "base_uri": "https://localhost:8080/",
          "height": 91
        }
      },
      "source": [
        "#challange1\n",
        "%%sql\n",
        "CREATE TABLE if not exists pc (\n",
        "    code,\n",
        "    mode1,\n",
        "    speed,\n",
        "    RAM,\n",
        "    HD,\n",
        "    CD,\n",
        "    price\n",
        ") ;\n",
        "SELECT * from pc ;\n",
        "\n",
        "\n",
        "    "
      ],
      "execution_count": 0,
      "outputs": [
        {
          "output_type": "stream",
          "text": [
            " * sqlite://\n",
            "Done.\n",
            "Done.\n"
          ],
          "name": "stdout"
        },
        {
          "output_type": "execute_result",
          "data": {
            "text/html": [
              "<table>\n",
              "    <tr>\n",
              "        <th>code</th>\n",
              "        <th>mode1</th>\n",
              "        <th>speed</th>\n",
              "        <th>RAM</th>\n",
              "        <th>HD</th>\n",
              "        <th>CD</th>\n",
              "        <th>price</th>\n",
              "    </tr>\n",
              "</table>"
            ],
            "text/plain": [
              "[]"
            ]
          },
          "metadata": {
            "tags": []
          },
          "execution_count": 23
        }
      ]
    },
    {
      "cell_type": "code",
      "metadata": {
        "id": "V68_cpJ7c_q1",
        "colab_type": "code",
        "outputId": "728b392a-5551-44a6-c4a8-82ed02369ec9",
        "colab": {
          "base_uri": "https://localhost:8080/",
          "height": 91
        }
      },
      "source": [
        "##challange2\n",
        "%%sql\n",
        "CREATE TABLE if not exists printer (\n",
        "    code,\n",
        "    model,\n",
        "    speed,\n",
        "    type,\n",
        "    price\n",
        ") ;\n",
        "SELECT * from printer ;\n"
      ],
      "execution_count": 0,
      "outputs": [
        {
          "output_type": "stream",
          "text": [
            " * sqlite://\n",
            "Done.\n",
            "Done.\n"
          ],
          "name": "stdout"
        },
        {
          "output_type": "execute_result",
          "data": {
            "text/html": [
              "<table>\n",
              "    <tr>\n",
              "        <th>code</th>\n",
              "        <th>model</th>\n",
              "        <th>speed</th>\n",
              "        <th>type</th>\n",
              "        <th>price</th>\n",
              "    </tr>\n",
              "</table>"
            ],
            "text/plain": [
              "[]"
            ]
          },
          "metadata": {
            "tags": []
          },
          "execution_count": 24
        }
      ]
    },
    {
      "cell_type": "code",
      "metadata": {
        "id": "MrRtjWefdR4w",
        "colab_type": "code",
        "outputId": "ab237146-591b-42f4-e544-73b4d20501b6",
        "colab": {
          "base_uri": "https://localhost:8080/",
          "height": 91
        }
      },
      "source": [
        "###challange3\n",
        "%%sql\n",
        "CREATE TABLE if not exists movies (\n",
        "    id,\n",
        "    title,\n",
        "    director,\n",
        "    year,\n",
        "    length\n",
        "    \n",
        ") ;\n",
        "select * from movies ;"
      ],
      "execution_count": 0,
      "outputs": [
        {
          "output_type": "stream",
          "text": [
            " * sqlite://\n",
            "Done.\n",
            "Done.\n"
          ],
          "name": "stdout"
        },
        {
          "output_type": "execute_result",
          "data": {
            "text/html": [
              "<table>\n",
              "    <tr>\n",
              "        <th>id</th>\n",
              "        <th>title</th>\n",
              "        <th>director</th>\n",
              "        <th>year</th>\n",
              "        <th>length</th>\n",
              "    </tr>\n",
              "</table>"
            ],
            "text/plain": [
              "[]"
            ]
          },
          "metadata": {
            "tags": []
          },
          "execution_count": 25
        }
      ]
    },
    {
      "cell_type": "markdown",
      "metadata": {
        "id": "WXPQzVKwTSmK",
        "colab_type": "text"
      },
      "source": [
        "# **specifying column data types**"
      ]
    },
    {
      "cell_type": "code",
      "metadata": {
        "id": "EDBb2bSiSAXb",
        "colab_type": "code",
        "outputId": "a221b40a-59df-49ae-9349-c6dfde5dfe4e",
        "colab": {
          "base_uri": "https://localhost:8080/",
          "height": 91
        }
      },
      "source": [
        "#challange1\n",
        "\n",
        "%%sql\n",
        "CREATE TABLE if not exists customer(\n",
        "    CustID int,\n",
        "    LastName varchar(25),\n",
        "    FirstName varchar(20)\n",
        ") ;\n",
        "SELECT * from customer;\n",
        "\n",
        "\n",
        "\n",
        "\n",
        "\n"
      ],
      "execution_count": 0,
      "outputs": [
        {
          "output_type": "stream",
          "text": [
            " * sqlite://\n",
            "Done.\n",
            "Done.\n"
          ],
          "name": "stdout"
        },
        {
          "output_type": "execute_result",
          "data": {
            "text/html": [
              "<table>\n",
              "    <tr>\n",
              "        <th>CustID</th>\n",
              "        <th>LastName</th>\n",
              "        <th>FirstName</th>\n",
              "    </tr>\n",
              "</table>"
            ],
            "text/plain": [
              "[]"
            ]
          },
          "metadata": {
            "tags": []
          },
          "execution_count": 21
        }
      ]
    },
    {
      "cell_type": "code",
      "metadata": {
        "id": "p2kP3YjXZ06t",
        "colab_type": "code",
        "outputId": "838e6ea5-c020-432e-f9fc-ea4a4f56e6ed",
        "colab": {
          "base_uri": "https://localhost:8080/",
          "height": 91
        }
      },
      "source": [
        "##challange2\n",
        "%%sql\n",
        "CREATE TABLE if not exists sales(\n",
        "    sales_ID int,\n",
        "    customer_ID int,\n",
        "    name text,\n",
        "    adress int\n",
        ") ;\n",
        "SELECT * from sales;\n"
      ],
      "execution_count": 0,
      "outputs": [
        {
          "output_type": "stream",
          "text": [
            " * sqlite://\n",
            "Done.\n",
            "Done.\n"
          ],
          "name": "stdout"
        },
        {
          "output_type": "execute_result",
          "data": {
            "text/html": [
              "<table>\n",
              "    <tr>\n",
              "        <th>sales_ID</th>\n",
              "        <th>customer_ID</th>\n",
              "        <th>name</th>\n",
              "        <th>adress</th>\n",
              "    </tr>\n",
              "</table>"
            ],
            "text/plain": [
              "[]"
            ]
          },
          "metadata": {
            "tags": []
          },
          "execution_count": 22
        }
      ]
    },
    {
      "cell_type": "code",
      "metadata": {
        "id": "ebBq0VRjaM1j",
        "colab_type": "code",
        "outputId": "148a83af-ad25-4300-b17c-84c74d267f37",
        "colab": {
          "base_uri": "https://localhost:8080/",
          "height": 91
        }
      },
      "source": [
        "###challange3\n",
        "%%sql\n",
        "CREATE TABLE if not exists employees (\n",
        "    employee_name text,\n",
        "    department text,\n",
        "    salary int\n",
        ");\n",
        "SELECT * from employees;"
      ],
      "execution_count": 0,
      "outputs": [
        {
          "output_type": "stream",
          "text": [
            " * sqlite://\n",
            "Done.\n",
            "Done.\n"
          ],
          "name": "stdout"
        },
        {
          "output_type": "execute_result",
          "data": {
            "text/html": [
              "<table>\n",
              "    <tr>\n",
              "        <th>employee_name</th>\n",
              "        <th>department</th>\n",
              "        <th>salary</th>\n",
              "    </tr>\n",
              "</table>"
            ],
            "text/plain": [
              "[]"
            ]
          },
          "metadata": {
            "tags": []
          },
          "execution_count": 26
        }
      ]
    },
    {
      "cell_type": "markdown",
      "metadata": {
        "id": "qGQtEG0B3jTm",
        "colab_type": "text"
      },
      "source": [
        "# **Specifying column default values**"
      ]
    },
    {
      "cell_type": "code",
      "metadata": {
        "id": "tbhAivfD3it0",
        "colab_type": "code",
        "outputId": "af8adf10-968e-4e34-f7a0-394932e74ec4",
        "colab": {
          "base_uri": "https://localhost:8080/",
          "height": 88
        }
      },
      "source": [
        "%%sql\n",
        "CREATE TABLE if not exists players (\n",
        "    player_id INT,\n",
        "    player_name TEXT,\n",
        "    player_salary VARCHAR(60),\n",
        "    age INTEGER DEFAULT 'unkmown',\n",
        "    salary INT\n",
        ");\n",
        "SELECT * from players;\n",
        "\n",
        "    \n",
        "    \n",
        "    \n",
        "    "
      ],
      "execution_count": 0,
      "outputs": [
        {
          "output_type": "stream",
          "text": [
            " * sqlite://\n",
            "Done.\n",
            "Done.\n"
          ],
          "name": "stdout"
        },
        {
          "output_type": "execute_result",
          "data": {
            "text/html": [
              "<table>\n",
              "    <tr>\n",
              "        <th>player_id</th>\n",
              "        <th>player_name</th>\n",
              "        <th>player_salary</th>\n",
              "        <th>age</th>\n",
              "        <th>salary</th>\n",
              "    </tr>\n",
              "</table>"
            ],
            "text/plain": [
              "[]"
            ]
          },
          "metadata": {
            "tags": []
          },
          "execution_count": 3
        }
      ]
    },
    {
      "cell_type": "code",
      "metadata": {
        "id": "XTW-yTAQ85w3",
        "colab_type": "code",
        "outputId": "fa56aa96-591a-4c85-9d7c-a73b2ad90941",
        "colab": {
          "base_uri": "https://localhost:8080/",
          "height": 88
        }
      },
      "source": [
        "#CHALLANGE2\n",
        "%%sql\n",
        "CREATE TABLE if not exists restaurants(\n",
        "    name TEXT,\n",
        "    description TEXT,\n",
        "    adress VARCHAR DEFAULT 'unknown',\n",
        "    user_id INTEGER ,\n",
        "    last_orders_at DATE\n",
        ");\n",
        "SELECT * from restaurants;"
      ],
      "execution_count": 0,
      "outputs": [
        {
          "output_type": "stream",
          "text": [
            " * sqlite://\n",
            "Done.\n",
            "Done.\n"
          ],
          "name": "stdout"
        },
        {
          "output_type": "execute_result",
          "data": {
            "text/html": [
              "<table>\n",
              "    <tr>\n",
              "        <th>name</th>\n",
              "        <th>description</th>\n",
              "        <th>adress</th>\n",
              "        <th>user_id</th>\n",
              "        <th>last_orders_at</th>\n",
              "    </tr>\n",
              "</table>"
            ],
            "text/plain": [
              "[]"
            ]
          },
          "metadata": {
            "tags": []
          },
          "execution_count": 5
        }
      ]
    },
    {
      "cell_type": "markdown",
      "metadata": {
        "id": "b_YA1ytw_Hs_",
        "colab_type": "text"
      },
      "source": [
        "## **Altering SQL Tables**"
      ]
    },
    {
      "cell_type": "code",
      "metadata": {
        "id": "NN6NKgGk_GrQ",
        "colab_type": "code",
        "outputId": "ec2c169d-9bd6-47ac-d70b-6300d7dcba4d",
        "colab": {
          "base_uri": "https://localhost:8080/",
          "height": 124
        }
      },
      "source": [
        "%%sql\n",
        "CREATE TABLE IF NOT EXISTS TeamMembers (\n",
        "    id INTEGER PRIMARY KEY,\n",
        "    name TEXT,\n",
        "    age INTEGER DEFAULT 'Unknown',\n",
        "    height REAL\n",
        ");\n",
        "SELECT *from TeamMembers ;\n",
        "\n",
        "\n",
        "ALTER TABLE TeamMembers ADD DOB date;\n",
        "SELECT *from TeamMembers;\n",
        "\n"
      ],
      "execution_count": 0,
      "outputs": [
        {
          "output_type": "stream",
          "text": [
            " * sqlite://\n",
            "Done.\n",
            "Done.\n",
            "Done.\n",
            "Done.\n"
          ],
          "name": "stdout"
        },
        {
          "output_type": "execute_result",
          "data": {
            "text/html": [
              "<table>\n",
              "    <tr>\n",
              "        <th>id</th>\n",
              "        <th>name</th>\n",
              "        <th>age</th>\n",
              "        <th>height</th>\n",
              "        <th>DOB</th>\n",
              "    </tr>\n",
              "</table>"
            ],
            "text/plain": [
              "[]"
            ]
          },
          "metadata": {
            "tags": []
          },
          "execution_count": 10
        }
      ]
    },
    {
      "cell_type": "code",
      "metadata": {
        "id": "nojkb9caD2RS",
        "colab_type": "code",
        "outputId": "b763d4d9-51a0-46f1-b72b-c8486695fd3b",
        "colab": {
          "base_uri": "https://localhost:8080/",
          "height": 160
        }
      },
      "source": [
        "%%sql\n",
        "PRAGMA table_info(TeamMembers);"
      ],
      "execution_count": 0,
      "outputs": [
        {
          "output_type": "stream",
          "text": [
            " * sqlite://\n",
            "Done.\n"
          ],
          "name": "stdout"
        },
        {
          "output_type": "execute_result",
          "data": {
            "text/html": [
              "<table>\n",
              "    <tr>\n",
              "        <th>cid</th>\n",
              "        <th>name</th>\n",
              "        <th>type</th>\n",
              "        <th>notnull</th>\n",
              "        <th>dflt_value</th>\n",
              "        <th>pk</th>\n",
              "    </tr>\n",
              "    <tr>\n",
              "        <td>0</td>\n",
              "        <td>id</td>\n",
              "        <td>INTEGER</td>\n",
              "        <td>0</td>\n",
              "        <td>None</td>\n",
              "        <td>1</td>\n",
              "    </tr>\n",
              "    <tr>\n",
              "        <td>1</td>\n",
              "        <td>name</td>\n",
              "        <td>TEXT</td>\n",
              "        <td>0</td>\n",
              "        <td>None</td>\n",
              "        <td>0</td>\n",
              "    </tr>\n",
              "    <tr>\n",
              "        <td>2</td>\n",
              "        <td>age</td>\n",
              "        <td>INTEGER</td>\n",
              "        <td>0</td>\n",
              "        <td>&#x27;Unknown&#x27;</td>\n",
              "        <td>0</td>\n",
              "    </tr>\n",
              "    <tr>\n",
              "        <td>3</td>\n",
              "        <td>height</td>\n",
              "        <td>REAL</td>\n",
              "        <td>0</td>\n",
              "        <td>None</td>\n",
              "        <td>0</td>\n",
              "    </tr>\n",
              "    <tr>\n",
              "        <td>4</td>\n",
              "        <td>DOB</td>\n",
              "        <td>date</td>\n",
              "        <td>0</td>\n",
              "        <td>None</td>\n",
              "        <td>0</td>\n",
              "    </tr>\n",
              "</table>"
            ],
            "text/plain": [
              "[(0, 'id', 'INTEGER', 0, None, 1),\n",
              " (1, 'name', 'TEXT', 0, None, 0),\n",
              " (2, 'age', 'INTEGER', 0, \"'Unknown'\", 0),\n",
              " (3, 'height', 'REAL', 0, None, 0),\n",
              " (4, 'DOB', 'date', 0, None, 0)]"
            ]
          },
          "metadata": {
            "tags": []
          },
          "execution_count": 13
        }
      ]
    },
    {
      "cell_type": "code",
      "metadata": {
        "id": "UE3HNSJoFOfd",
        "colab_type": "code",
        "outputId": "8b5613bc-847a-4382-87ad-90b679382b9d",
        "colab": {
          "base_uri": "https://localhost:8080/",
          "height": 124
        }
      },
      "source": [
        "%%sql \n",
        "CREATE TABLE if not exists Artists (\n",
        "    artist_id INT, \n",
        "    artist_name VARCHAR(60), \n",
        "    place_of_birth VARCHAR(60)\n",
        ");\n",
        "SELECT * from Artists;\n",
        "\n",
        "\n",
        "ALTER TABLE Artists RENAME to MSA;\n",
        "\n",
        "SELECT * from MSA;\n",
        "\n",
        "\n",
        "\n"
      ],
      "execution_count": 0,
      "outputs": [
        {
          "output_type": "stream",
          "text": [
            " * sqlite://\n",
            "Done.\n",
            "Done.\n",
            "Done.\n",
            "Done.\n"
          ],
          "name": "stdout"
        },
        {
          "output_type": "execute_result",
          "data": {
            "text/html": [
              "<table>\n",
              "    <tr>\n",
              "        <th>artist_id</th>\n",
              "        <th>artist_name</th>\n",
              "        <th>place_of_birth</th>\n",
              "    </tr>\n",
              "</table>"
            ],
            "text/plain": [
              "[]"
            ]
          },
          "metadata": {
            "tags": []
          },
          "execution_count": 29
        }
      ]
    },
    {
      "cell_type": "markdown",
      "metadata": {
        "id": "UrX_B4IZJpIE",
        "colab_type": "text"
      },
      "source": [
        "# **Dropping SQL Tables**"
      ]
    },
    {
      "cell_type": "code",
      "metadata": {
        "id": "VvQkIV6UJn0t",
        "colab_type": "code",
        "colab": {}
      },
      "source": [
        "####dropping and trancating tables requires data"
      ],
      "execution_count": 0,
      "outputs": []
    }
  ]
}